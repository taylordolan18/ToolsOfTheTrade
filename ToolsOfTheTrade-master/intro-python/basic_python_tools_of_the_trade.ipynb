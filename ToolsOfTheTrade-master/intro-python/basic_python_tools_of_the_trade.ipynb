{
 "cells": [
  {
   "cell_type": "markdown",
   "id": "35de1b22-a1c1-4845-ab47-ef96fdcd03c2",
   "metadata": {},
   "source": [
    "# **ASGSA Tools of the Trade** - Basic Python\n",
    "\n",
    "In this Tools of the Trade, we will be exploring how to do some basic coding in Python, including:\n",
    "\n",
    "- How to make and work with lists and Numpy arrays\n",
    "- How to use `for` loops\n",
    "- How to use conditional statements (`if`, `elif`, and `else`)\n",
    "- How to write functions\n",
    "- How to plot data with matplotlib\n",
    "\n",
    "The only libraries required today are **Numpy** and **Matplotlib**, both of which are included in the 'base' Anaconda environment. Documentation for these modules can be found at the following websites:\n",
    "\n",
    "Numpy: https://numpy.org/doc/stable/\n",
    "<br>Matplotlib: https://matplotlib.org/stable/index.html\n",
    "\n",
    "For questions relating to this code, please contact Alec Sczepanski (alec.sczepanski@und.edu).\n",
    "\n",
    "Without further ado, here we go!\n",
    "\n",
    "***"
   ]
  },
  {
   "cell_type": "markdown",
   "id": "99d49d8b-204e-4a3b-b6e0-0dc1907d8831",
   "metadata": {},
   "source": [
    "To begin, we will import necessary modules. \n",
    "\n",
    "Python will only use the modules that are imported into the code you are writing. In other words, even if the module is installed on your PC or called in your Anaconda environment, your Python code will not know to use it unless it is imported.\n",
    "\n",
    "When importing, you can shorten or alias the module name to make it easier to call as you code:\n",
    "- `import pandas as pd`\n",
    "\n",
    "You can use any alias that you would like! Such as:\n",
    "- `import pandas as express`\n",
    "\n",
    "You can also import a specific sub-module. A common sub-module to import is `pyplot` within the `matplotlib` module:\n",
    "- `import matplotlib.pyplot as plt`\n",
    "\n",
    "Let's import the modules we will need for today's Tools of the Trade:\n",
    "- `numpy`: will be used to process and manipulate lists and arrays\n",
    "- `matplotlib.pyplot`: will be used to create a figure with axes and plot data"
   ]
  },
  {
   "cell_type": "code",
   "execution_count": null,
   "id": "b649d173-3bc2-4075-aa48-afffdbbdb9b2",
   "metadata": {},
   "outputs": [],
   "source": [
    "import numpy as np\n",
    "import matplotlib.pyplot as plt"
   ]
  },
  {
   "cell_type": "markdown",
   "id": "01a62358-676d-4e27-8227-e11455d9c9c5",
   "metadata": {},
   "source": [
    "Next, we will make a couple of lists.\n",
    "\n",
    "A **list** is a collection of items that can be of differing data types (e.g. numbers and letters, integers and floats, etc).\n",
    "\n",
    " ***Examples of lists:***<br>\n",
    " *List with just integers:*<br>\n",
    " `[2, 4, 6, 8, 10]`\n",
    "\n",
    " *List with combination of integers and strings:*<br>\n",
    " `[one, 3, five, 7, nine]`\n",
    " \n",
    " *List with combination of integers with one index being a list itself (list inside of a list):*<br>\n",
    " `[6, 2, 3, [8, 9, 100], 12]`\n",
    "\n",
    "<br>\n",
    "\n",
    "A similar thing in Python is an **array**, which is a vector of elements of the *same data type* (most commonly numbers). \n",
    "\n",
    " ***Example of 2x3 array:***<br>\n",
    " `[[2, 4, 6]`<br>\n",
    " `[1, 3, 5]]`\n",
    "<br>\n",
    "\n",
    "Lists are generally more intuitive and flexible to use, but become computationally expensive for larger datasets or difficult/impossible to use for data of differing dimensions.\n",
    "\n",
    "Arrays are overall computationally less expensive and can make manipulating data a breeze, but are overall more strict in their formatting and require importing libraries to create (e.g. Numpy). We will look at arrays shortly.\n",
    "\n",
    "With that said, let's make a couple of lists:"
   ]
  },
  {
   "cell_type": "code",
   "execution_count": null,
   "id": "f546b797-1940-4966-b7a0-c0f29f8c79ee",
   "metadata": {},
   "outputs": [],
   "source": [
    "x = [2, 4, 5, 6, 8] #Numbers can be put into numerical order\n",
    "y = [5, 3, 7, 4, 2] #Number can also be put in a random order!"
   ]
  },
  {
   "cell_type": "markdown",
   "id": "96601f68-6a6b-4e27-a416-54aeb3c9c36d",
   "metadata": {},
   "source": [
    "Now let's calculate some basic statistics. Numpy is a powerful tool as it contains many of the functions we need to work with lists and arrays. `math` is another module that is useful for calculations, particularly of the trigonometric variety. Basic Python has built-in functions for determining other basic stats.\n",
    "\n",
    "Let's look at some statistics for the lists we created:"
   ]
  },
  {
   "cell_type": "code",
   "execution_count": null,
   "id": "7bfa696f-778a-4a56-9b76-9d9a6c56ff5b",
   "metadata": {},
   "outputs": [],
   "source": [
    "# Determine the length of each list:\n",
    "length_x = len(x)\n",
    "length_y = len(y)\n",
    "\n",
    "print(\"The length of list x is: \", length_x)\n",
    "print(\"The length of list y is: \", length_y)"
   ]
  },
  {
   "cell_type": "code",
   "execution_count": null,
   "id": "cb7d499e-ba55-4a2b-96a0-7ae4355ba8ca",
   "metadata": {},
   "outputs": [],
   "source": [
    "# Calculate the average of each list:\n",
    "avg_x = np.average(x)\n",
    "avg_y = np.average(y)\n",
    "\n",
    "print(\"This is the average value of list x: \", avg_x)\n",
    "print(\"This is the average value of list y: \", avg_y)"
   ]
  },
  {
   "cell_type": "markdown",
   "id": "1597d95c-4388-456e-8a15-35867257fa80",
   "metadata": {},
   "source": [
    "***\n",
    "We can find the minimum and maximum value of each list, but writing the code to find each value can be cumbersome and repetitive, especially if working with more lists than we are today. Thankfully, we can define functions.\n",
    "\n",
    "A **function** is a block of code that is defined under a name. The code will only run when the function is called. When defining a function, at least one argument must be included, but an infinite amount of arguments can be included.\n",
    "\n",
    "Let's make a basic function to find the minimum and maximum values of each list and print them to the screen:"
   ]
  },
  {
   "cell_type": "code",
   "execution_count": null,
   "id": "c498f981-043e-459b-97bf-a76e720e60b3",
   "metadata": {},
   "outputs": [],
   "source": [
    "# Here, we define a function called \"min_max_values\" where a necessary argument is the input of a list\n",
    "\n",
    "def min_max_values(input_list):\n",
    "    \n",
    "    # Find the max value of the input list:\n",
    "    max_value = np.max(input_list)\n",
    "    \n",
    "    # Find the min value of the input list:\n",
    "    min_value = np.min(input_list)\n",
    "    \n",
    "    print(\"\\nName of input list: \", input_list)\n",
    "    print(\"This is the maximum value of the input list: \", max_value)\n",
    "    print(\"This is the minimum value of the input list: \", min_value)\n",
    "    \n",
    "\n",
    "# Let's use this function on our two lists:\n",
    "min_max_values(input_list = x)\n",
    "min_max_values(input_list = y)"
   ]
  },
  {
   "cell_type": "markdown",
   "id": "45cdd94d-25c5-4612-a2d4-16443c4fbe6a",
   "metadata": {},
   "source": [
    "***\n",
    "\n",
    "While lists are handy, intuitive, and work in a pinch, arrays are generally faster and more productive to work with. When dealing with data in a list, you must go element-by-element. When working with data in an array, you can work on an entire array at once. This is made quicker with Numpy since this module is built on C, which is faster than Python. For example, a list with 1 million elements will take a hot minute or eight to loop through, whereas executing an operation on an array with 1 million elements should only take a few seconds.\n",
    "\n",
    "A few important things to remember about arrays: \n",
    "- Each row must be the same length \n",
    "- Each column must be the same length\n",
    "- Each element in the array must be of the same data type (e.g. float, integer, datetime64, etc)\n",
    "\n",
    "This is different from lists where you can mix and match data types, and even throw in another list as one of the elements.\n",
    "\n",
    "Another thing to know:\n",
    "- An *x* by *y* array is ***x* rows tall** and ***y* columns wide**. Example: a 3x2 array (3,2) is 3 rows, 2 columns.\n",
    "\n",
    "Let's try building an array and messing with the data inside of it."
   ]
  },
  {
   "cell_type": "code",
   "execution_count": null,
   "id": "631bc2e8-14d3-4206-a80e-09878e68dd48",
   "metadata": {},
   "outputs": [],
   "source": [
    "# Build a 2x3 array:\n",
    "\n",
    "r = np.array([\n",
    "    [1, 2, 3],\n",
    "    [4, 5, 6]])\n",
    "\n",
    "print(r)"
   ]
  },
  {
   "cell_type": "code",
   "execution_count": null,
   "id": "bb648868-8760-411d-988f-efbffaf83559",
   "metadata": {},
   "outputs": [],
   "source": [
    "# Find the min, max, and mean of the array:\n",
    "r_min = np.min(r)\n",
    "r_max = np.max(r)\n",
    "r_mean = np.mean(r)\n",
    "\n",
    "print('The minimum, maximum, and mean values of r are, respectively: {0}, {1}, and {2}.'.format(r_min, r_max, r_mean))"
   ]
  },
  {
   "cell_type": "code",
   "execution_count": null,
   "id": "946c04a8-36bd-44fe-9316-4322f9f300d2",
   "metadata": {},
   "outputs": [],
   "source": [
    "# Multiply each element by 2, add 3, and take the square root:\n",
    "q = np.sqrt((r*2)+3)\n",
    "\n",
    "print(q)"
   ]
  },
  {
   "cell_type": "markdown",
   "id": "56814ea6-9b00-4241-890a-bf02c3c44950",
   "metadata": {},
   "source": [
    "And with that example, we performed three operations on one line without having to use any loops. What are loops? Let's look at that next.\n",
    "\n",
    "Note: for the remainder of this workshop, we will be using lists to highlight other Python functions."
   ]
  },
  {
   "cell_type": "markdown",
   "id": "fcf632b9-ff3d-4ec6-9b20-3fac9d598d91",
   "metadata": {},
   "source": [
    "***\n",
    "Lists (and arrays) can be looped through to manipulate the data. To do this, we will use a `for` loop. \n",
    "\n",
    "A **`for` loop** loops through the data in a list or array, one element at a time, until either there is no more data to go through or a prescribed amount of data has been looped through.\n",
    "\n",
    "Let's make a `for` loop to multiply the elements of list `x` by 2: "
   ]
  },
  {
   "cell_type": "code",
   "execution_count": null,
   "id": "56677bc0-d5af-4c68-b370-08ebc47f9879",
   "metadata": {},
   "outputs": [],
   "source": [
    "# First, create a new, empty list to append the output of the 'for' loop to:\n",
    "x_modified = []\n",
    "\n",
    "# Use a 'for' loop to modify list x:\n",
    "for i in x:\n",
    "    \n",
    "    #Perform the operation:\n",
    "    j = i*2\n",
    "    \n",
    "    #Append the new value to x_modified:\n",
    "    x_modified += [j]\n",
    "    \n",
    "print(\"This was the original list 'x': \", x)\n",
    "print(\"Here is the modified list 'x': \", x_modified)"
   ]
  },
  {
   "cell_type": "markdown",
   "id": "a8afa0a0-2d95-4162-aa0c-8b8aa40df655",
   "metadata": {},
   "source": [
    "***\n",
    "\n",
    "Another way to process data is via **conditional statements**. These include `if`, `elif`, and `else`. \n",
    "\n",
    "The `if` statement defines a block of code that will only be executed if a specific condition is `True`.\n",
    "\n",
    "If you have multiple conditions, you can use the `elif` statement, which is short for 'else-if'. This means if the initial `if` statement is not met, then the program tries the next condition (\"else-if\").\n",
    "\n",
    "If no condition is met, you can assign a default output using `else`.\n",
    "\n",
    "Let's see this in action by dividing 1 by a variety of numbers."
   ]
  },
  {
   "cell_type": "code",
   "execution_count": null,
   "id": "e0375e4e-f64f-4bfa-bdec-53986393c4ad",
   "metadata": {},
   "outputs": [],
   "source": [
    "# Establish a list of numbers to divide 1 by:\n",
    "numbers = [-2, -1, 0, 1, 2]\n",
    "\n",
    "# Use a 'for' loop to loop through numbers:\n",
    "for i in numbers:\n",
    "    \n",
    "    # If i > 0, print that the result is positive, then print the result:\n",
    "    if i > 0:\n",
    "        \n",
    "        print('\\nWhen 1 is divided by {0:1d}, the result will be positive.'.format(i))\n",
    "        \n",
    "        result = 1/i\n",
    "        \n",
    "        print('The resulting number is: ', result)\n",
    "        \n",
    "    # If i < 0, print that the result is negative, then print the result:\n",
    "    elif i < 0:\n",
    "        \n",
    "        print('\\nWhen 1 is divided by {0:1d}, the result will be negative.'.format(i))\n",
    "        \n",
    "        result = 1/i\n",
    "        \n",
    "        print('The resulting number is: ', result)\n",
    "        \n",
    "    # Assume any other number is 0, which cannot be in the denominator:\n",
    "    else:\n",
    "        \n",
    "        print('\\nYou cannot divide by zero. That is undefined. No. Just... no.')"
   ]
  },
  {
   "cell_type": "markdown",
   "id": "ecf31865-99a3-4db4-89ec-132d3533e1ec",
   "metadata": {},
   "source": [
    "Conditional statements can also be written all on one line, increasing code efficiency. Here's a quick example:"
   ]
  },
  {
   "cell_type": "code",
   "execution_count": null,
   "id": "e65794f9-224e-4b87-b7a0-4682e20b7e57",
   "metadata": {},
   "outputs": [],
   "source": [
    "# Will use same list of numbers as previous cell:\n",
    "for i in numbers:\n",
    "    \n",
    "    # If i < 0, square it. Otherwise, add 1 and cube it.\n",
    "    z = i**2 if i < 0 else (i+1)**3    ###### NOTE: THIS VARIABLE CHANGED FROM x TO z\n",
    "    \n",
    "    print(i, '-->', z)"
   ]
  },
  {
   "cell_type": "markdown",
   "id": "16d6068c-8de3-487b-855e-8f2740f5d4d3",
   "metadata": {},
   "source": [
    "***\n",
    "Next, let's plot some data. \n",
    "\n",
    "We will use matplotlib to plot our two lists from before, `x` and `y`, in a basic line plot. The output will be printed to the screen, or can be saved as a .png.\n",
    "\n",
    "Let's plot the line plot:"
   ]
  },
  {
   "cell_type": "code",
   "execution_count": null,
   "id": "03117996-d4d4-4bbd-95d8-2b4dac63a9a6",
   "metadata": {},
   "outputs": [],
   "source": [
    "# Create a new figure:\n",
    "fig = plt.figure(figsize = (8,6)) #figsize = (horizontal, vertical) [in inches]\n",
    "\n",
    "# Add a fresh axis to the figure:\n",
    "ax = fig.add_subplot(111) #(111) = 1x1 panel plot, 1st panel. (221) would be a 2x2 panel plot, 1st panel (upper-left)\n",
    "\n",
    "# Plot the data:\n",
    "plt.plot(x, y, color = 'red')\n",
    "\n",
    "# Label the axes:\n",
    "plt.xlabel('List x')\n",
    "plt.ylabel('List y')\n",
    "\n",
    "# Set axes limits:\n",
    "plt.xlim(0,10)\n",
    "plt.ylim(0,10)\n",
    "\n",
    "# Draw gridlines:\n",
    "plt.grid(which = 'major', axis = 'both')\n",
    "\n",
    "# Set figure title: \n",
    "ax.set_title('List x vs List y', size = 14)\n",
    "\n",
    "# Show the finished result:\n",
    "plt.show()\n",
    "\n",
    "#plt.savefig('plot.png', dpi=350)\n",
    "\n",
    "# Close the plot (VERY IMPORTANT WHEN MAKING MULTIPLE PLOTS!!! If plots aren't closed, PC may use up all of its memory and crash!!!)\n",
    "#plt.close()"
   ]
  },
  {
   "cell_type": "markdown",
   "id": "37e1e4bd-ddc2-4932-b6b4-1d2a0b5ed1a1",
   "metadata": {},
   "source": [
    "***\n",
    "\n",
    "**Exercise:** Below is a list of temperatures in Fahrenheit. Using the tools we learned today, convert the temperatures into Celsius and plot a graph of Celsius vs Fahrenheit temperatures.\n",
    "\n",
    "Recall:\n",
    "<br>\n",
    "$C = (F-32)*(5/9)$"
   ]
  },
  {
   "cell_type": "code",
   "execution_count": null,
   "id": "17bef002-4524-4554-aa92-b0bd85ba3cda",
   "metadata": {},
   "outputs": [],
   "source": []
  }
 ],
 "metadata": {
  "kernelspec": {
   "display_name": "Python 3 (ipykernel)",
   "language": "python",
   "name": "python3"
  },
  "language_info": {
   "codemirror_mode": {
    "name": "ipython",
    "version": 3
   },
   "file_extension": ".py",
   "mimetype": "text/x-python",
   "name": "python",
   "nbconvert_exporter": "python",
   "pygments_lexer": "ipython3",
   "version": "3.9.7"
  }
 },
 "nbformat": 4,
 "nbformat_minor": 5
}
