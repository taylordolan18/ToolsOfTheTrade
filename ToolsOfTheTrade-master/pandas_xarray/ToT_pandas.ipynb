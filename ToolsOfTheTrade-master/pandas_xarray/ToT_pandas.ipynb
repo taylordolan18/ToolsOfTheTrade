{
 "cells": [
  {
   "cell_type": "markdown",
   "id": "7c5e9ee2-65a1-4f22-8542-5412e2777331",
   "metadata": {},
   "source": [
    "# UND ATSC Tools of the Trade\n",
    "\n",
    "This code demonstrates how how read in data using pandas and do some basic data manipulation. \n",
    "\n",
    "Written: Aaron Scott, UND Fall 2022"
   ]
  },
  {
   "cell_type": "code",
   "execution_count": 2,
   "id": "7614b835-d0ee-4f74-b1ff-c666471d6c1f",
   "metadata": {},
   "outputs": [],
   "source": [
    "import pandas as pd\n",
    "import numpy as np\n",
    "import netCDF4 as nc\n",
    "import matplotlib.pyplot as plt\n",
    "import xarray as xr\n",
    "import warnings\n",
    "warnings.filterwarnings('ignore')"
   ]
  },
  {
   "cell_type": "markdown",
   "id": "7c9b7d38-0d0a-4786-95ec-2d53ae61e205",
   "metadata": {},
   "source": [
    "Below is an example of how to do the following:\n",
    " - drop duplicates\n",
    " - pandas to datetime method \n",
    " - set index\n",
    " \n",
    "Here are some useful links:\n",
    " - [drop_duplicates](https://pandas.pydata.org/docs/reference/api/pandas.DataFrame.drop_duplicates.html)\n",
    " - [to_datetime](https://pandas.pydata.org/docs/reference/api/pandas.to_datetime.html)\n",
    " - [strftime documentation](https://docs.python.org/3/library/datetime.html#strftime-and-strptime-behavior)\n",
    " - [set_index](https://pandas.pydata.org/docs/reference/api/pandas.DataFrame.set_index.html)\n",
    "  "
   ]
  },
  {
   "cell_type": "code",
   "execution_count": 68,
   "id": "cca6fcfa-0408-4122-a6aa-5e80d6f8a78e",
   "metadata": {},
   "outputs": [],
   "source": [
    "file_path = '/home/aaron.scott/DATA/AWARE/Algorithm/'\n",
    "data =pd.read_csv(file_path+'mi_alg_results_corrected_dups.csv')\n",
    "data.drop_duplicates(subset='datetime',inplace=True)\n",
    "data['datetime'] = pd.to_datetime(data['datetime'],format='%Y-%m-%d %H:%M')\n"
   ]
  },
  {
   "cell_type": "code",
   "execution_count": 69,
   "id": "baba003a-40b4-4f1d-912c-1c758bee0008",
   "metadata": {
    "scrolled": true,
    "tags": []
   },
   "outputs": [
    {
     "data": {
      "text/html": [
       "<div>\n",
       "<style scoped>\n",
       "    .dataframe tbody tr th:only-of-type {\n",
       "        vertical-align: middle;\n",
       "    }\n",
       "\n",
       "    .dataframe tbody tr th {\n",
       "        vertical-align: top;\n",
       "    }\n",
       "\n",
       "    .dataframe thead th {\n",
       "        text-align: right;\n",
       "    }\n",
       "</style>\n",
       "<table border=\"1\" class=\"dataframe\">\n",
       "  <thead>\n",
       "    <tr style=\"text-align: right;\">\n",
       "      <th></th>\n",
       "      <th>category</th>\n",
       "      <th>ceil_blsn_top</th>\n",
       "      <th>smoothed_blsn_top</th>\n",
       "      <th>10m_windspeed</th>\n",
       "      <th>10m_winddir</th>\n",
       "      <th>2m_visibility</th>\n",
       "      <th>2m_temperature</th>\n",
       "      <th>ceil_30m</th>\n",
       "      <th>mpl_bs</th>\n",
       "      <th>mpl_ldr</th>\n",
       "      <th>hsrl_bs</th>\n",
       "      <th>hsrl_ldr</th>\n",
       "      <th>cr</th>\n",
       "      <th>valid_criteria</th>\n",
       "    </tr>\n",
       "    <tr>\n",
       "      <th>datetime</th>\n",
       "      <th></th>\n",
       "      <th></th>\n",
       "      <th></th>\n",
       "      <th></th>\n",
       "      <th></th>\n",
       "      <th></th>\n",
       "      <th></th>\n",
       "      <th></th>\n",
       "      <th></th>\n",
       "      <th></th>\n",
       "      <th></th>\n",
       "      <th></th>\n",
       "      <th></th>\n",
       "      <th></th>\n",
       "    </tr>\n",
       "  </thead>\n",
       "  <tbody>\n",
       "    <tr>\n",
       "      <th>2016-01-01 00:00:00</th>\n",
       "      <td>0</td>\n",
       "      <td>NaN</td>\n",
       "      <td>0.0</td>\n",
       "      <td>5.260400</td>\n",
       "      <td>63.820000</td>\n",
       "      <td>20000.0</td>\n",
       "      <td>-7.9302</td>\n",
       "      <td>99999999.9</td>\n",
       "      <td>99999999.9</td>\n",
       "      <td>99999999.9</td>\n",
       "      <td>99999999.9</td>\n",
       "      <td>99999999.9</td>\n",
       "      <td>99999999.9</td>\n",
       "      <td>0</td>\n",
       "    </tr>\n",
       "    <tr>\n",
       "      <th>2016-01-01 00:05:00</th>\n",
       "      <td>0</td>\n",
       "      <td>NaN</td>\n",
       "      <td>0.0</td>\n",
       "      <td>5.260400</td>\n",
       "      <td>63.820000</td>\n",
       "      <td>20000.0</td>\n",
       "      <td>-7.9302</td>\n",
       "      <td>99999999.9</td>\n",
       "      <td>99999999.9</td>\n",
       "      <td>99999999.9</td>\n",
       "      <td>99999999.9</td>\n",
       "      <td>99999999.9</td>\n",
       "      <td>99999999.9</td>\n",
       "      <td>0</td>\n",
       "    </tr>\n",
       "    <tr>\n",
       "      <th>2016-01-01 00:10:00</th>\n",
       "      <td>0</td>\n",
       "      <td>NaN</td>\n",
       "      <td>0.0</td>\n",
       "      <td>5.938800</td>\n",
       "      <td>62.450001</td>\n",
       "      <td>20000.0</td>\n",
       "      <td>-8.0644</td>\n",
       "      <td>99999999.9</td>\n",
       "      <td>99999999.9</td>\n",
       "      <td>99999999.9</td>\n",
       "      <td>99999999.9</td>\n",
       "      <td>99999999.9</td>\n",
       "      <td>99999999.9</td>\n",
       "      <td>0</td>\n",
       "    </tr>\n",
       "    <tr>\n",
       "      <th>2016-01-01 00:15:00</th>\n",
       "      <td>0</td>\n",
       "      <td>NaN</td>\n",
       "      <td>0.0</td>\n",
       "      <td>6.104199</td>\n",
       "      <td>56.409996</td>\n",
       "      <td>20000.0</td>\n",
       "      <td>-7.7834</td>\n",
       "      <td>99999999.9</td>\n",
       "      <td>99999999.9</td>\n",
       "      <td>99999999.9</td>\n",
       "      <td>99999999.9</td>\n",
       "      <td>99999999.9</td>\n",
       "      <td>99999999.9</td>\n",
       "      <td>0</td>\n",
       "    </tr>\n",
       "    <tr>\n",
       "      <th>2016-01-01 00:20:00</th>\n",
       "      <td>0</td>\n",
       "      <td>NaN</td>\n",
       "      <td>0.0</td>\n",
       "      <td>6.311800</td>\n",
       "      <td>53.671997</td>\n",
       "      <td>20000.0</td>\n",
       "      <td>-7.6062</td>\n",
       "      <td>99999999.9</td>\n",
       "      <td>99999999.9</td>\n",
       "      <td>99999999.9</td>\n",
       "      <td>99999999.9</td>\n",
       "      <td>99999999.9</td>\n",
       "      <td>99999999.9</td>\n",
       "      <td>0</td>\n",
       "    </tr>\n",
       "    <tr>\n",
       "      <th>...</th>\n",
       "      <td>...</td>\n",
       "      <td>...</td>\n",
       "      <td>...</td>\n",
       "      <td>...</td>\n",
       "      <td>...</td>\n",
       "      <td>...</td>\n",
       "      <td>...</td>\n",
       "      <td>...</td>\n",
       "      <td>...</td>\n",
       "      <td>...</td>\n",
       "      <td>...</td>\n",
       "      <td>...</td>\n",
       "      <td>...</td>\n",
       "      <td>...</td>\n",
       "    </tr>\n",
       "    <tr>\n",
       "      <th>2016-12-30 23:35:00</th>\n",
       "      <td>0</td>\n",
       "      <td>NaN</td>\n",
       "      <td>0.0</td>\n",
       "      <td>7.186601</td>\n",
       "      <td>117.599998</td>\n",
       "      <td>20000.0</td>\n",
       "      <td>-1.5290</td>\n",
       "      <td>99999999.9</td>\n",
       "      <td>99999999.9</td>\n",
       "      <td>99999999.9</td>\n",
       "      <td>99999999.9</td>\n",
       "      <td>99999999.9</td>\n",
       "      <td>99999999.9</td>\n",
       "      <td>0</td>\n",
       "    </tr>\n",
       "    <tr>\n",
       "      <th>2016-12-30 23:40:00</th>\n",
       "      <td>0</td>\n",
       "      <td>NaN</td>\n",
       "      <td>0.0</td>\n",
       "      <td>7.890600</td>\n",
       "      <td>115.400002</td>\n",
       "      <td>20000.0</td>\n",
       "      <td>-1.6922</td>\n",
       "      <td>99999999.9</td>\n",
       "      <td>99999999.9</td>\n",
       "      <td>99999999.9</td>\n",
       "      <td>99999999.9</td>\n",
       "      <td>99999999.9</td>\n",
       "      <td>99999999.9</td>\n",
       "      <td>0</td>\n",
       "    </tr>\n",
       "    <tr>\n",
       "      <th>2016-12-30 23:45:00</th>\n",
       "      <td>0</td>\n",
       "      <td>NaN</td>\n",
       "      <td>0.0</td>\n",
       "      <td>7.661200</td>\n",
       "      <td>111.759995</td>\n",
       "      <td>20000.0</td>\n",
       "      <td>-1.9562</td>\n",
       "      <td>99999999.9</td>\n",
       "      <td>99999999.9</td>\n",
       "      <td>99999999.9</td>\n",
       "      <td>99999999.9</td>\n",
       "      <td>99999999.9</td>\n",
       "      <td>99999999.9</td>\n",
       "      <td>0</td>\n",
       "    </tr>\n",
       "    <tr>\n",
       "      <th>2016-12-30 23:50:00</th>\n",
       "      <td>0</td>\n",
       "      <td>NaN</td>\n",
       "      <td>0.0</td>\n",
       "      <td>7.286000</td>\n",
       "      <td>112.339989</td>\n",
       "      <td>20000.0</td>\n",
       "      <td>-1.8972</td>\n",
       "      <td>99999999.9</td>\n",
       "      <td>99999999.9</td>\n",
       "      <td>99999999.9</td>\n",
       "      <td>99999999.9</td>\n",
       "      <td>99999999.9</td>\n",
       "      <td>99999999.9</td>\n",
       "      <td>0</td>\n",
       "    </tr>\n",
       "    <tr>\n",
       "      <th>2016-12-30 23:55:00</th>\n",
       "      <td>0</td>\n",
       "      <td>NaN</td>\n",
       "      <td>0.0</td>\n",
       "      <td>7.012200</td>\n",
       "      <td>115.000000</td>\n",
       "      <td>20000.0</td>\n",
       "      <td>-1.8518</td>\n",
       "      <td>99999999.9</td>\n",
       "      <td>99999999.9</td>\n",
       "      <td>99999999.9</td>\n",
       "      <td>99999999.9</td>\n",
       "      <td>99999999.9</td>\n",
       "      <td>99999999.9</td>\n",
       "      <td>0</td>\n",
       "    </tr>\n",
       "  </tbody>\n",
       "</table>\n",
       "<p>105118 rows × 14 columns</p>\n",
       "</div>"
      ],
      "text/plain": [
       "                     category  ceil_blsn_top  smoothed_blsn_top  \\\n",
       "datetime                                                          \n",
       "2016-01-01 00:00:00         0            NaN                0.0   \n",
       "2016-01-01 00:05:00         0            NaN                0.0   \n",
       "2016-01-01 00:10:00         0            NaN                0.0   \n",
       "2016-01-01 00:15:00         0            NaN                0.0   \n",
       "2016-01-01 00:20:00         0            NaN                0.0   \n",
       "...                       ...            ...                ...   \n",
       "2016-12-30 23:35:00         0            NaN                0.0   \n",
       "2016-12-30 23:40:00         0            NaN                0.0   \n",
       "2016-12-30 23:45:00         0            NaN                0.0   \n",
       "2016-12-30 23:50:00         0            NaN                0.0   \n",
       "2016-12-30 23:55:00         0            NaN                0.0   \n",
       "\n",
       "                     10m_windspeed  10m_winddir  2m_visibility  \\\n",
       "datetime                                                         \n",
       "2016-01-01 00:00:00       5.260400    63.820000        20000.0   \n",
       "2016-01-01 00:05:00       5.260400    63.820000        20000.0   \n",
       "2016-01-01 00:10:00       5.938800    62.450001        20000.0   \n",
       "2016-01-01 00:15:00       6.104199    56.409996        20000.0   \n",
       "2016-01-01 00:20:00       6.311800    53.671997        20000.0   \n",
       "...                            ...          ...            ...   \n",
       "2016-12-30 23:35:00       7.186601   117.599998        20000.0   \n",
       "2016-12-30 23:40:00       7.890600   115.400002        20000.0   \n",
       "2016-12-30 23:45:00       7.661200   111.759995        20000.0   \n",
       "2016-12-30 23:50:00       7.286000   112.339989        20000.0   \n",
       "2016-12-30 23:55:00       7.012200   115.000000        20000.0   \n",
       "\n",
       "                     2m_temperature    ceil_30m      mpl_bs     mpl_ldr  \\\n",
       "datetime                                                                  \n",
       "2016-01-01 00:00:00         -7.9302  99999999.9  99999999.9  99999999.9   \n",
       "2016-01-01 00:05:00         -7.9302  99999999.9  99999999.9  99999999.9   \n",
       "2016-01-01 00:10:00         -8.0644  99999999.9  99999999.9  99999999.9   \n",
       "2016-01-01 00:15:00         -7.7834  99999999.9  99999999.9  99999999.9   \n",
       "2016-01-01 00:20:00         -7.6062  99999999.9  99999999.9  99999999.9   \n",
       "...                             ...         ...         ...         ...   \n",
       "2016-12-30 23:35:00         -1.5290  99999999.9  99999999.9  99999999.9   \n",
       "2016-12-30 23:40:00         -1.6922  99999999.9  99999999.9  99999999.9   \n",
       "2016-12-30 23:45:00         -1.9562  99999999.9  99999999.9  99999999.9   \n",
       "2016-12-30 23:50:00         -1.8972  99999999.9  99999999.9  99999999.9   \n",
       "2016-12-30 23:55:00         -1.8518  99999999.9  99999999.9  99999999.9   \n",
       "\n",
       "                        hsrl_bs    hsrl_ldr          cr  valid_criteria  \n",
       "datetime                                                                 \n",
       "2016-01-01 00:00:00  99999999.9  99999999.9  99999999.9               0  \n",
       "2016-01-01 00:05:00  99999999.9  99999999.9  99999999.9               0  \n",
       "2016-01-01 00:10:00  99999999.9  99999999.9  99999999.9               0  \n",
       "2016-01-01 00:15:00  99999999.9  99999999.9  99999999.9               0  \n",
       "2016-01-01 00:20:00  99999999.9  99999999.9  99999999.9               0  \n",
       "...                         ...         ...         ...             ...  \n",
       "2016-12-30 23:35:00  99999999.9  99999999.9  99999999.9               0  \n",
       "2016-12-30 23:40:00  99999999.9  99999999.9  99999999.9               0  \n",
       "2016-12-30 23:45:00  99999999.9  99999999.9  99999999.9               0  \n",
       "2016-12-30 23:50:00  99999999.9  99999999.9  99999999.9               0  \n",
       "2016-12-30 23:55:00  99999999.9  99999999.9  99999999.9               0  \n",
       "\n",
       "[105118 rows x 14 columns]"
      ]
     },
     "execution_count": 69,
     "metadata": {},
     "output_type": "execute_result"
    }
   ],
   "source": [
    "data.set_index('datetime',inplace=True)\n",
    "data"
   ]
  },
  {
   "cell_type": "markdown",
   "id": "42f5de66-9016-40fb-9c86-931a0102f959",
   "metadata": {},
   "source": [
    "Things to show here:\n",
    " - loc\n",
    " - iloc"
   ]
  },
  {
   "cell_type": "markdown",
   "id": "a8a4ebf7-85b5-4f00-a2d1-8ca710bc34e2",
   "metadata": {},
   "source": [
    "# Why is it useful to be able to set the index of the data frame? Makes slicing data much easier!"
   ]
  },
  {
   "cell_type": "code",
   "execution_count": 22,
   "id": "46a191a4-a35a-45df-aae6-a34114753b36",
   "metadata": {},
   "outputs": [
    {
     "data": {
      "text/plain": [
       "category             0.000000e+00\n",
       "ceil_blsn_top                 NaN\n",
       "smoothed_blsn_top    0.000000e+00\n",
       "10m_windspeed        6.311800e+00\n",
       "10m_winddir          5.367200e+01\n",
       "2m_visibility        2.000000e+04\n",
       "2m_temperature      -7.606200e+00\n",
       "ceil_30m             1.000000e+08\n",
       "mpl_bs               1.000000e+08\n",
       "mpl_ldr              1.000000e+08\n",
       "hsrl_bs              1.000000e+08\n",
       "hsrl_ldr             1.000000e+08\n",
       "cr                   1.000000e+08\n",
       "valid_criteria       0.000000e+00\n",
       "Name: 2016-01-01 00:20:00, dtype: float64"
      ]
     },
     "execution_count": 22,
     "metadata": {},
     "output_type": "execute_result"
    }
   ],
   "source": [
    "data.loc['2016-01-01 00:20']"
   ]
  },
  {
   "cell_type": "markdown",
   "id": "1acf6353-e1b5-4426-a0e1-5065e7751857",
   "metadata": {},
   "source": [
    "# They syntax for slicing: loc[row_label,column_label]"
   ]
  },
  {
   "cell_type": "code",
   "execution_count": 21,
   "id": "086ba27b-bab3-4213-b18f-fce7436f9871",
   "metadata": {},
   "outputs": [
    {
     "data": {
      "text/plain": [
       "0.0"
      ]
     },
     "execution_count": 21,
     "metadata": {},
     "output_type": "execute_result"
    }
   ],
   "source": [
    "data.loc['2016-01-01 00:20','category']"
   ]
  },
  {
   "cell_type": "markdown",
   "id": "f3073591-a661-4ff9-b16e-063705e8362a",
   "metadata": {},
   "source": [
    "# Can also specify the key to the dictionary first then use loc or iloc on the column "
   ]
  },
  {
   "cell_type": "code",
   "execution_count": 17,
   "id": "5a41729b-8e91-423e-8249-0f113ef16da4",
   "metadata": {},
   "outputs": [
    {
     "data": {
      "text/plain": [
       "0"
      ]
     },
     "execution_count": 17,
     "metadata": {},
     "output_type": "execute_result"
    }
   ],
   "source": [
    "data['category'].loc['2016-01-01 00:20']"
   ]
  },
  {
   "cell_type": "markdown",
   "id": "0b65782c-9abc-49e4-92f1-de16d1f74498",
   "metadata": {},
   "source": [
    "# Thye syntax for slicing: iloc[row_position, column_position]"
   ]
  },
  {
   "cell_type": "code",
   "execution_count": 30,
   "id": "48aa9cd0-2c06-4e3b-a34d-f762ac3791db",
   "metadata": {},
   "outputs": [
    {
     "data": {
      "text/plain": [
       "category             0.000000e+00\n",
       "ceil_blsn_top                 NaN\n",
       "smoothed_blsn_top    0.000000e+00\n",
       "10m_windspeed        5.260400e+00\n",
       "10m_winddir          6.382000e+01\n",
       "2m_visibility        2.000000e+04\n",
       "2m_temperature      -7.930200e+00\n",
       "ceil_30m             1.000000e+08\n",
       "mpl_bs               1.000000e+08\n",
       "mpl_ldr              1.000000e+08\n",
       "hsrl_bs              1.000000e+08\n",
       "hsrl_ldr             1.000000e+08\n",
       "cr                   1.000000e+08\n",
       "valid_criteria       0.000000e+00\n",
       "Name: 2016-01-01 00:00:00, dtype: float64"
      ]
     },
     "execution_count": 30,
     "metadata": {},
     "output_type": "execute_result"
    }
   ],
   "source": [
    "data.iloc[0]"
   ]
  },
  {
   "cell_type": "markdown",
   "id": "0264594c-71f2-4ea4-976b-c91b5b2735d2",
   "metadata": {},
   "source": [
    "# Pandas has a wrapper around matplotlib so it is easy to make plots straight from the data frame!"
   ]
  },
  {
   "cell_type": "code",
   "execution_count": 83,
   "id": "dbf36ccc-937e-418c-a5d8-2c8ee555b1e1",
   "metadata": {},
   "outputs": [
    {
     "data": {
      "text/plain": [
       "[<matplotlib.lines.Line2D at 0x7f9160ff1908>]"
      ]
     },
     "execution_count": 83,
     "metadata": {},
     "output_type": "execute_result"
    },
    {
     "data": {
      "image/png": "[encoded data removed]",
      "text/plain": [
       "<Figure size 432x288 with 1 Axes>"
      ]
     },
     "metadata": {
      "needs_background": "light"
     },
     "output_type": "display_data"
    }
   ],
   "source": [
    "data['2m_temperature'].plot()"
   ]
  },
  {
   "cell_type": "markdown",
   "id": "fe32e08b-7082-41bd-a6ec-2ad52ec14a70",
   "metadata": {},
   "source": [
    "# You can create explicit figure and axes objects yourself to make customizing your plots easier. It helps if you have a fundamental understanding of how matplotlib is working and the foundation of figure and axes objects. "
   ]
  },
  {
   "cell_type": "code",
   "execution_count": 75,
   "id": "b83d6a32-f051-40a8-9865-aa0c715d6856",
   "metadata": {},
   "outputs": [
    {
     "data": {
      "text/plain": [
       "<AxesSubplot:xlabel='datetime'>"
      ]
     },
     "execution_count": 75,
     "metadata": {},
     "output_type": "execute_result"
    },
    {
     "data": {
      "image/png": "[encoded data removed]",
      "text/plain": [
       "<Figure size 1080x360 with 2 Axes>"
      ]
     },
     "metadata": {
      "needs_background": "light"
     },
     "output_type": "display_data"
    }
   ],
   "source": [
    "#plt.sbuplots() creates the figure object and then as many axes objects as specified. \n",
    "#Note the syntax: plt.subplots(num_rows, num_columns)\n",
    "fig, ax = plt.subplots(1,1,figsize=(15,5)) #You can also specify the figure size here\n",
    "data['2m_temperature'].loc['2016-01':'2016-02'][::50].plot(ax=ax,color='blue',ylim=(-20,20))\n",
    "#Using the twinx method on the axis to make another dataset that is using a different y-axis \n",
    "ax2 = ax.twinx()\n",
    "data['10m_windspeed'].loc['2016-01':'2016-02'][::50].plot(ax=ax2,color='red')\n",
    "\n",
    "#ax.set_ylabel(fontweight='bold')\n",
    "#ax2.set_ylabel('10 m Wind Speed',fontweight='bold')"
   ]
  },
  {
   "cell_type": "markdown",
   "id": "ee6c72bb-1e59-42e8-bb8f-766ad5bbdb3c",
   "metadata": {},
   "source": [
    "# A common issue with data is missing times from a dataset. Pandas and Xarray have a method that is useful for accounting for missing times. First we are going to look at an example using the Pandas data frame, but I have had more success in using the reindex_like method on an xarray dataset. "
   ]
  },
  {
   "cell_type": "code",
   "execution_count": 62,
   "id": "a6866906-210d-4de5-a8a7-3c6d99f86fc7",
   "metadata": {},
   "outputs": [],
   "source": [
    "d = pd.DataFrame(data,index=pd.date_range(start='2016-01-01 00:10',end='2017-01-01', freq='300s'))\n",
    "data = data.reindex_like(d,method=None)"
   ]
  },
  {
   "cell_type": "code",
   "execution_count": 63,
   "id": "32028a1d-6c75-4550-87e6-c4ee42467de9",
   "metadata": {},
   "outputs": [
    {
     "data": {
      "text/plain": [
       "(105407, 14)"
      ]
     },
     "execution_count": 63,
     "metadata": {},
     "output_type": "execute_result"
    }
   ],
   "source": [
    "d.shape"
   ]
  },
  {
   "cell_type": "code",
   "execution_count": 64,
   "id": "e7b3e101-410f-4f19-bbcb-e65611eb840a",
   "metadata": {},
   "outputs": [
    {
     "data": {
      "text/plain": [
       "(105407, 14)"
      ]
     },
     "execution_count": 64,
     "metadata": {},
     "output_type": "execute_result"
    }
   ],
   "source": [
    "data.shape"
   ]
  },
  {
   "cell_type": "markdown",
   "id": "4805fb9b-777b-4fbc-ba69-d069327dff21",
   "metadata": {},
   "source": [
    "# Now we are going to do the same thing but here we convert the Pandas DF to an Xarray DS"
   ]
  },
  {
   "cell_type": "code",
   "execution_count": 78,
   "id": "2a19bc8f-3d95-4cbe-82a9-08adfd886487",
   "metadata": {},
   "outputs": [
    {
     "data": {
      "text/plain": [
       "<xarray.Dataset>\n",
       "Dimensions:            (datetime: 105118)\n",
       "Coordinates:\n",
       "  * datetime           (datetime) datetime64[ns] 2016-01-01 ... 2016-12-30T23:55:00\n",
       "Data variables:\n",
       "    category           (datetime) int64 0 0 0 0 0 0 0 0 0 ... 0 0 0 0 0 0 0 0 0\n",
       "    ceil_blsn_top      (datetime) float64 nan nan nan nan ... nan nan nan nan\n",
       "    smoothed_blsn_top  (datetime) float64 0.0 0.0 0.0 0.0 ... 0.0 0.0 0.0 0.0\n",
       "    10m_windspeed      (datetime) float64 5.26 5.26 5.939 ... 7.661 7.286 7.012\n",
       "    10m_winddir        (datetime) float64 63.82 63.82 62.45 ... 112.3 115.0\n",
       "    2m_visibility      (datetime) float64 2e+04 2e+04 2e+04 ... 2e+04 2e+04\n",
       "    2m_temperature     (datetime) float64 -7.93 -7.93 -8.064 ... -1.897 -1.852\n",
       "    ceil_30m           (datetime) float64 1e+08 1e+08 1e+08 ... 1e+08 1e+08\n",
       "    mpl_bs             (datetime) float64 1e+08 1e+08 1e+08 ... 1e+08 1e+08\n",
       "    mpl_ldr            (datetime) float64 1e+08 1e+08 1e+08 ... 1e+08 1e+08\n",
       "    hsrl_bs            (datetime) float64 1e+08 1e+08 1e+08 ... 1e+08 1e+08\n",
       "    hsrl_ldr           (datetime) float64 1e+08 1e+08 1e+08 ... 1e+08 1e+08\n",
       "    cr                 (datetime) float64 1e+08 1e+08 1e+08 ... 1e+08 1e+08\n",
       "    valid_criteria     (datetime) int64 0 0 0 0 0 0 0 0 0 ... 0 0 0 0 0 0 0 0 0"
      ]
     },
     "execution_count": 78,
     "metadata": {},
     "output_type": "execute_result"
    }
   ],
   "source": [
    "file_path = '/home/aaron.scott/DATA/AWARE/Algorithm/'\n",
    "data =pd.read_csv(file_path+'mi_alg_results_corrected_dups.csv')\n",
    "data.drop_duplicates(subset='datetime',inplace=True)\n",
    "data['datetime'] = pd.to_datetime(data['datetime'],format='%Y-%m-%d %H:%M')\n",
    "data.set_index('datetime',inplace=True)\n",
    "data = data.to_xarray()\n",
    "data"
   ]
  },
  {
   "cell_type": "code",
   "execution_count": 79,
   "id": "ebe84d49-35f2-413d-bf46-36b27834459a",
   "metadata": {},
   "outputs": [],
   "source": [
    "ds_time = xr.Dataset({'datetime': pd.date_range(start='2016-01-01 00:10',\n",
    "                                            end='2017-01-01', freq='300s')})\n",
    "data = data.reindex_like(ds_time,method=None)"
   ]
  },
  {
   "cell_type": "code",
   "execution_count": 80,
   "id": "3c4e842c-f702-4249-9ae9-21d413c58254",
   "metadata": {},
   "outputs": [
    {
     "data": {
      "text/plain": [
       "<xarray.Dataset>\n",
       "Dimensions:            (datetime: 105407)\n",
       "Coordinates:\n",
       "  * datetime           (datetime) datetime64[ns] 2016-01-01T00:10:00 ... 2017-01-01\n",
       "Data variables:\n",
       "    category           (datetime) float64 0.0 0.0 0.0 0.0 ... nan nan nan nan\n",
       "    ceil_blsn_top      (datetime) float64 nan nan nan nan ... nan nan nan nan\n",
       "    smoothed_blsn_top  (datetime) float64 0.0 0.0 0.0 0.0 ... nan nan nan nan\n",
       "    10m_windspeed      (datetime) float64 5.939 6.104 6.312 ... nan nan nan\n",
       "    10m_winddir        (datetime) float64 62.45 56.41 53.67 ... nan nan nan\n",
       "    2m_visibility      (datetime) float64 2e+04 2e+04 2e+04 ... nan nan nan\n",
       "    2m_temperature     (datetime) float64 -8.064 -7.783 -7.606 ... nan nan nan\n",
       "    ceil_30m           (datetime) float64 1e+08 1e+08 1e+08 ... nan nan nan\n",
       "    mpl_bs             (datetime) float64 1e+08 1e+08 1e+08 ... nan nan nan\n",
       "    mpl_ldr            (datetime) float64 1e+08 1e+08 1e+08 ... nan nan nan\n",
       "    hsrl_bs            (datetime) float64 1e+08 1e+08 1e+08 ... nan nan nan\n",
       "    hsrl_ldr           (datetime) float64 1e+08 1e+08 1e+08 ... nan nan nan\n",
       "    cr                 (datetime) float64 1e+08 1e+08 1e+08 ... nan nan nan\n",
       "    valid_criteria     (datetime) float64 0.0 0.0 0.0 0.0 ... nan nan nan nan"
      ]
     },
     "execution_count": 80,
     "metadata": {},
     "output_type": "execute_result"
    }
   ],
   "source": [
    "data"
   ]
  },
  {
   "cell_type": "code",
   "execution_count": 82,
   "id": "5886e915-e464-4ad6-89b7-cf3a2e4e463d",
   "metadata": {},
   "outputs": [
    {
     "data": {
      "text/plain": [
       "[<matplotlib.lines.Line2D at 0x7f9160cb7b38>]"
      ]
     },
     "execution_count": 82,
     "metadata": {},
     "output_type": "execute_result"
    },
    {
     "data": {
      "image/png": "[encoded data removed]",
      "text/plain": [
       "<Figure size 432x288 with 1 Axes>"
      ]
     },
     "metadata": {
      "needs_background": "light"
     },
     "output_type": "display_data"
    }
   ],
   "source": [
    "data['2m_temperature'].plot()"
   ]
  },
  {
   "cell_type": "code",
   "execution_count": null,
   "id": "69307709-97aa-4e24-81ca-453595de9068",
   "metadata": {},
   "outputs": [],
   "source": []
  }
 ],
 "metadata": {
  "kernelspec": {
   "display_name": "Python 3",
   "language": "python",
   "name": "python3"
  },
  "language_info": {
   "codemirror_mode": {
    "name": "ipython",
    "version": 3
   },
   "file_extension": ".py",
   "mimetype": "text/x-python",
   "name": "python",
   "nbconvert_exporter": "python",
   "pygments_lexer": "ipython3",
   "version": "3.7.3"
  }
 },
 "nbformat": 4,
 "nbformat_minor": 5
}
