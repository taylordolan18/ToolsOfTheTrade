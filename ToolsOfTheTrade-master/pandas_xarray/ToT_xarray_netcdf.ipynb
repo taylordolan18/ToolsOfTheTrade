{
 "cells": [
  {
   "cell_type": "markdown",
   "id": "73045084-1a33-4c00-91b3-16ab686a9689",
   "metadata": {},
   "source": [
    "# UND ATSC Tools of the Trade\n",
    "\n",
    "This code demonstrates how how read in netCDF data and do some basic data manipulation and plotting. \n",
    "\n",
    "Written: Aaron Scott, UND Fall 2022\n"
   ]
  },
  {
   "cell_type": "code",
   "execution_count": null,
   "id": "7614b835-d0ee-4f74-b1ff-c666471d6c1f",
   "metadata": {},
   "outputs": [],
   "source": [
    "import pandas as pd\n",
    "import numpy as np\n",
    "import netCDF4 as nc\n",
    "import matplotlib.pyplot as plt\n",
    "import xarray as xr\n",
    "import cartopy.crs as ccrs\n",
    "import cartopy.feature as cfeature\n",
    "import warnings\n",
    "warnings.filterwarnings('ignore')"
   ]
  },
  {
   "cell_type": "code",
   "execution_count": null,
   "id": "6b0f1e86-fa34-427e-8195-81d50175c003",
   "metadata": {},
   "outputs": [],
   "source": [
    "#Thanks to Brian Horan for this nifty function \n",
    "def set_background(ax):\n",
    "    #ax.set_extent([255, 280, 40, 24])\n",
    "    ax.coastlines('10m', edgecolor = 'black')\n",
    "    ax.add_feature(cfeature.LAND.with_scale('10m'), facecolor = 'white')\n",
    "    ax.add_feature(cfeature.BORDERS.with_scale('10m'))\n",
    "    ax.add_feature(cfeature.LAKES.with_scale('10m'), edgecolor = 'black')\n",
    "    ax.add_feature(cfeature.STATES.with_scale('10m'), edgecolor = 'black')\n",
    "    ax.add_feature(cfeature.OCEAN.with_scale('10m'), edgecolor = 'black')\n",
    "    #ax.add_feature(mpp.USCOUNTIES.with_scale('5m'))\n",
    "    return ax"
   ]
  },
  {
   "cell_type": "markdown",
   "id": "521c85a5-0c8a-445a-b9a4-0bb548ba6bbe",
   "metadata": {},
   "source": [
    "# Useful Links:\n",
    " - [Xarray Documentation](https://docs.xarray.dev/en/stable/index.html)\n",
    " - [Xarray Terminology](https://docs.xarray.dev/en/stable/user-guide/terminology.html)\n",
    " - [isel](https://docs.xarray.dev/en/stable/generated/xarray.Dataset.isel.html)\n",
    " - [Indexing and Selecting Data](https://docs.xarray.dev/en/stable/user-guide/indexing.html)\n",
    " - [FacetGrid](https://docs.xarray.dev/en/stable/generated/xarray.plot.FacetGrid.html)\n"
   ]
  },
  {
   "cell_type": "markdown",
   "id": "11adcba7-49ee-4ce0-bb96-534709811037",
   "metadata": {},
   "source": [
    "# Using the Xarray method open_dataset to load in the netCDF file."
   ]
  },
  {
   "cell_type": "code",
   "execution_count": null,
   "id": "62282fc1-1c02-4230-82a5-f6c491deb5e2",
   "metadata": {},
   "outputs": [],
   "source": [
    "fpath2='/home/aaron.scott/DATA/BlownUnder/WRF/20200212/'\n",
    "file=fpath2+'wrfout_d01_2020-02-12_00_00_00.nc'\n",
    "ds_wrf = xr.open_dataset(file)"
   ]
  },
  {
   "cell_type": "code",
   "execution_count": null,
   "id": "f1847052-0d95-4d0d-954e-8987a7233010",
   "metadata": {
    "scrolled": true,
    "tags": []
   },
   "outputs": [],
   "source": [
    "ds_wrf"
   ]
  },
  {
   "cell_type": "markdown",
   "id": "3aa861de-45c6-427f-a5e7-e685d7da372a",
   "metadata": {},
   "source": [
    "# With Xarray, you can save off specific data to a variable "
   ]
  },
  {
   "cell_type": "code",
   "execution_count": null,
   "id": "d6b68fa9-27a5-4893-9846-5f9666293bd6",
   "metadata": {},
   "outputs": [],
   "source": [
    "temp2m = ds_wrf.T2 #sets the 2m temps into a variable - this is a DataArray"
   ]
  },
  {
   "cell_type": "code",
   "execution_count": null,
   "id": "8680ef0f-ab4a-4453-bbc8-00b0064a732a",
   "metadata": {},
   "outputs": [],
   "source": [
    "#Type is useful to check the type of your data\n",
    "type(temp2m)"
   ]
  },
  {
   "cell_type": "code",
   "execution_count": null,
   "id": "ecc05898-7848-491f-b691-4ff297aa6fbd",
   "metadata": {},
   "outputs": [],
   "source": [
    "#You can check different attributes of your data\n",
    "temp2m.coords"
   ]
  },
  {
   "cell_type": "markdown",
   "id": "52118bf3-f5a8-4b40-bf63-0957ea4df6ab",
   "metadata": {},
   "source": [
    "# Just like Pandas, Xarray has a wrapper around matplotlib! Also notice the use of isel similar to iloc (in Pandas). You can also use loc for label based indexing in Xarray similar to how it is used in Pandas. "
   ]
  },
  {
   "cell_type": "code",
   "execution_count": null,
   "id": "bc0a4b8d-2853-4ac3-8327-c99bad5b401d",
   "metadata": {},
   "outputs": [],
   "source": [
    "temp2m[10].plot.pcolormesh()"
   ]
  },
  {
   "cell_type": "markdown",
   "id": "780580d8-57da-46d4-8ccc-c10b3dc1b94f",
   "metadata": {},
   "source": [
    "# Xarray has a useful thing called Faceting. While we won't go into deep detail in this example, below are some examples of how to make nice plots with minimum lines of code!"
   ]
  },
  {
   "cell_type": "code",
   "execution_count": null,
   "id": "29cbe52e-c060-474f-8033-0869410ba96f",
   "metadata": {},
   "outputs": [],
   "source": [
    "temp2m.isel(Time=[0,1,2,3,4]).plot.imshow(col='Time',col_wrap=2,robust=True,cbar_kwargs={'orientation':'vertical','shrink':0.5})"
   ]
  },
  {
   "cell_type": "markdown",
   "id": "7cc26d10-866a-4929-93a7-ee1e1b63f1c1",
   "metadata": {},
   "source": [
    "# Below is a standard way of using Matplotlib with Cartopy to make a map."
   ]
  },
  {
   "cell_type": "code",
   "execution_count": null,
   "id": "6549380f-707b-4746-a710-33c8ba28d6b8",
   "metadata": {},
   "outputs": [],
   "source": [
    "lats =temp2m.coords['XLAT'][0,:,:]\n",
    "lons = temp2m.coords['XLONG'][0,:,:]\n",
    "projection=ccrs.LambertConformal()\n",
    "\n",
    "\n",
    "fig = plt.figure(figsize=(12,8))\n",
    "ax = fig.add_subplot(1,1,1,projection=projection)\n",
    "ax.set_extent([-108,-92,43,51],ccrs.PlateCarree())\n",
    "p=ax.contourf(lons,lats,temp2m.isel(Time=9),transform=ccrs.PlateCarree())\n",
    "fig.colorbar(p)\n",
    "ax = set_background(ax)"
   ]
  },
  {
   "cell_type": "markdown",
   "id": "333cfc87-b9a1-445e-9407-5d0ca0d318e4",
   "metadata": {},
   "source": [
    "# However, We can use the Xarray wrapper around Matplotlib to do the same thing!"
   ]
  },
  {
   "cell_type": "code",
   "execution_count": null,
   "id": "86c6c2c5-af8e-48a5-8428-5ef3e96514f8",
   "metadata": {},
   "outputs": [],
   "source": [
    "projection=ccrs.LambertConformal()\n",
    "fig = plt.figure(figsize=(12,8))\n",
    "ax = fig.add_subplot(1,1,1,projection=projection)\n",
    "temp2m.isel(Time=9).plot.pcolormesh(x='XLONG',y='XLAT',ax=ax,transform=ccrs.PlateCarree())\n",
    "ax = set_background(ax)"
   ]
  },
  {
   "cell_type": "markdown",
   "id": "011240d5-96f5-4e2a-b02c-e639987d4df2",
   "metadata": {},
   "source": [
    "# Below is another example with using the Faceting paradigm. "
   ]
  },
  {
   "cell_type": "code",
   "execution_count": null,
   "id": "52ee64d5-6247-4cfc-9a71-4e9ff3bd0d02",
   "metadata": {},
   "outputs": [],
   "source": [
    "map_proj = ccrs.LambertConformal()\n",
    "p = temp2m.isel(Time=[7,8,9,10]).plot.pcolormesh(x='XLONG',y='XLAT',col='Time',col_wrap=2,\n",
    "                                 aspect=1,\n",
    "                                 robust=True,\n",
    "                                 figsize=(10,10),\n",
    "                                 transform=ccrs.PlateCarree(),\n",
    "                                 subplot_kws={'projection':map_proj})\n",
    "\n",
    "for ax,title in zip(p.axes.flat,list('abcd')):\n",
    "    ax.set_extent([-108,-92,43,51],ccrs.PlateCarree())\n",
    "    #ax.set_extent([-100,-95.85,46,49],ccrs.PlateCarree())\n",
    "    ax = set_background(ax)\n",
    "    ax.set_title(title)\n",
    "\n",
    "plt.subplots_adjust(hspace=-0.5, wspace=0.1,top=0.93,bottom=.05,left=0.05,right=.70)\n"
   ]
  },
  {
   "cell_type": "markdown",
   "id": "05854e12-1008-4584-b8d0-6b5c68c7d3da",
   "metadata": {},
   "source": [
    "# Here is an example of using Faceting to Plot temperature along a lines of longitude. The syntax here may seem a bit weird, but after some practice this is an extremely efficient way to make quick plots of your data in different ways. "
   ]
  },
  {
   "cell_type": "code",
   "execution_count": null,
   "id": "080310e2-e356-434b-bb5e-b6afd5b02bda",
   "metadata": {},
   "outputs": [],
   "source": [
    "temp2m.isel(Time=[8,9],south_north=slice(0,None,10)).plot(x='west_east',hue='south_north',col='Time')"
   ]
  },
  {
   "cell_type": "code",
   "execution_count": null,
   "id": "8f981cfc-32c5-40b6-84b7-78db8f173f04",
   "metadata": {},
   "outputs": [],
   "source": [
    "map_proj = ccrs.LambertConformal()\n",
    "p = temp2m.plot.pcolormesh(x='XLONG',y='XLAT',col='Time',col_wrap=4,\n",
    "                                 aspect=1,\n",
    "                                 robust=True,\n",
    "                                 \n",
    "                                 transform=ccrs.PlateCarree(),\n",
    "                                 subplot_kws={'projection':map_proj})\n",
    "\n",
    "for ax in p.axes.flat:\n",
    "    #ax.set_extent([-108,-92,43,51],ccrs.PlateCarree())\n",
    "    ax.set_extent([-100,-95.85,46,49],ccrs.PlateCarree())\n",
    "    ax = set_background(ax)\n",
    "\n",
    "plt.subplots_adjust(hspace=0.3, wspace=0,top=0.93,bottom=.05,left=0.05,right=.70)\n"
   ]
  },
  {
   "cell_type": "code",
   "execution_count": null,
   "id": "0ef27a83-14db-43b4-acf2-2a4d37851b88",
   "metadata": {},
   "outputs": [],
   "source": []
  },
  {
   "cell_type": "code",
   "execution_count": null,
   "id": "ebe84d49-35f2-413d-bf46-36b27834459a",
   "metadata": {},
   "outputs": [],
   "source": []
  }
 ],
 "metadata": {
  "kernelspec": {
   "display_name": "Python 3",
   "language": "python",
   "name": "python3"
  },
  "language_info": {
   "codemirror_mode": {
    "name": "ipython",
    "version": 3
   },
   "file_extension": ".py",
   "mimetype": "text/x-python",
   "name": "python",
   "nbconvert_exporter": "python",
   "pygments_lexer": "ipython3",
   "version": "3.7.3"
  }
 },
 "nbformat": 4,
 "nbformat_minor": 5
}
